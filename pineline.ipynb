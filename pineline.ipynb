{
 "cells": [
  {
   "cell_type": "code",
   "execution_count": null,
   "metadata": {},
   "outputs": [],
   "source": [
    "import fitz  # PyMuPDF\n",
    "import os\n",
    "\n",
    "def pdf_to_images(pdf_path, output_folder=\"pages\"):\n",
    "    # Tạo thư mục output nếu chưa có\n",
    "    os.makedirs(output_folder, exist_ok=True)\n",
    "\n",
    "    # Mở PDF\n",
    "    doc = fitz.open(pdf_path)\n",
    "    total_pages = len(doc)  # Lưu số trang trước khi đóng\n",
    "\n",
    "    for page_num in range(total_pages):\n",
    "        # Lấy trang\n",
    "        page = doc.load_page(page_num)\n",
    "\n",
    "        # Chuyển thành ảnh với độ phân giải cao\n",
    "        matrix = fitz.Matrix(2, 2)  # Zoom 2x để có chất lượng tốt hơn\n",
    "        pix = page.get_pixmap(matrix=matrix)\n",
    "\n",
    "        # Lưu ảnh\n",
    "        output_path = f\"{output_folder}/page_{page_num + 1:03d}.png\"\n",
    "        pix.save(output_path)\n",
    "        print(f\"Đã lưu: {output_path}\")\n",
    "\n",
    "    doc.close()\n",
    "    print(f\"Hoàn thành! Đã tách {total_pages} trang vào thư mục '{output_folder}'\")\n",
    "\n",
    "# Sử dụng\n",
    "pdf_path = \"raw_book.pdf\"\n",
    "pdf_to_images(pdf_path)"
   ]
  },
  {
   "cell_type": "code",
   "execution_count": null,
   "metadata": {},
   "outputs": [],
   "source": [
    "!pip install pytesseract pillow\n"
   ]
  },
  {
   "cell_type": "code",
   "execution_count": null,
   "metadata": {},
   "outputs": [],
   "source": [
    "import pytesseract\n",
    "from PIL import Image\n",
    "import os\n",
    "import glob\n",
    "\n",
    "# Nếu vẫn lỗi, thêm dòng này để chỉ định đường dẫn\n",
    "pytesseract.pytesseract.tesseract_cmd = r'C:\\Program Files\\Tesseract-OCR\\tesseract.exe'\n",
    "\n",
    "def ocr_images_to_text(images_folder=\"pages\", output_file=\"extracted_text.txt\"):\n",
    "    image_files = sorted(glob.glob(f\"{images_folder}/*.png\"))\n",
    "    print(f\"Tìm thấy {len(image_files)} ảnh để xử lý...\")\n",
    "\n",
    "    all_text = \"\"\n",
    "\n",
    "    for i, image_path in enumerate(image_files):\n",
    "        print(f\"Đang xử lý: {image_path} ({i+1}/{len(image_files)})\")\n",
    "\n",
    "        try:\n",
    "            img = Image.open(image_path)\n",
    "            # Sử dụng cả tiếng Việt và tiếng Anh\n",
    "            text = pytesseract.image_to_string(img, lang='vie+eng')\n",
    "\n",
    "            all_text += f\"\\n{'='*50}\\n\"\n",
    "            all_text += f\"TRANG {i+1} - {os.path.basename(image_path)}\\n\"\n",
    "            all_text += f\"{'='*50}\\n\"\n",
    "            all_text += text\n",
    "            all_text += \"\\n\"\n",
    "            if i == 5:\n",
    "                print('test break')\n",
    "                break\n",
    "            print(f\"✓ Hoàn thành trang {i+1}\")\n",
    "\n",
    "        except Exception as e:\n",
    "            print(f\"✗ Lỗi trang {i+1}: {e}\")\n",
    "\n",
    "    with open(output_file, \"w\", encoding=\"utf-8\") as f:\n",
    "        f.write(all_text)\n",
    "\n",
    "    print(f\"\\n🎉 Hoàn thành! Text đã lưu vào: {output_file}\")\n",
    "    return all_text\n",
    "\n",
    "# Chạy OCR\n",
    "text = ocr_images_to_text(\"pages\", \"extracted_text.txt\")"
   ]
  }
 ],
 "metadata": {
  "kernelspec": {
   "display_name": "venv",
   "language": "python",
   "name": "python3"
  },
  "language_info": {
   "codemirror_mode": {
    "name": "ipython",
    "version": 3
   },
   "file_extension": ".py",
   "mimetype": "text/x-python",
   "name": "python",
   "nbconvert_exporter": "python",
   "pygments_lexer": "ipython3",
   "version": "3.11.7"
  }
 },
 "nbformat": 4,
 "nbformat_minor": 2
}
